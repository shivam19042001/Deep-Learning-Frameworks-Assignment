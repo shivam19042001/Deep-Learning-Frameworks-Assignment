{
  "nbformat": 4,
  "nbformat_minor": 0,
  "metadata": {
    "colab": {
      "provenance": []
    },
    "kernelspec": {
      "name": "python3",
      "display_name": "Python 3"
    },
    "language_info": {
      "name": "python"
    }
  },
  "cells": [
    {
      "cell_type": "markdown",
      "source": [
        "#Theoratical"
      ],
      "metadata": {
        "id": "pcg3L-tnshpj"
      }
    },
    {
      "cell_type": "markdown",
      "source": [
        "1.What is TensorFlow 2.0, and how is it different from TensorFlow 1.x"
      ],
      "metadata": {
        "id": "EaKwuuohGY65"
      }
    },
    {
      "cell_type": "code",
      "source": [
        "\"\"\"\n",
        "TensorFlow 2.0 is the most current version of the TensorFlow platform, streamlined for user-friendliness\n",
        "and simplicity. It fully incorporates Keras as its primary high-level interface and enhances support for\n",
        "eager execution, which makes building and debugging models more intuitive. Additionally, it removes much\n",
        "of the complexity found in TensorFlow 1.x—such as the reliance on manual session control—making the framework\n",
        "cleaner and more developer-friendly.\n",
        "\"\"\""
      ],
      "metadata": {
        "id": "Rqr3-O8rsNOo"
      },
      "execution_count": null,
      "outputs": []
    },
    {
      "cell_type": "markdown",
      "source": [
        "2.How do you install TensorFlow 2.0"
      ],
      "metadata": {
        "id": "yLxxuJIOGY0a"
      }
    },
    {
      "cell_type": "code",
      "source": [
        "\"\"\"\n",
        "You can install TensorFlow 2.0 (or the latest stable release) using pip by running:\n",
        "\n",
        "pip install tensorflow\n",
        "\n",
        "This command fetches and installs the latest stable TensorFlow package from PyPI, along with all its\n",
        "necessary dependencies to get the framework up and running\n",
        "\"\"\""
      ],
      "metadata": {
        "id": "QDOAGK7FsNlo"
      },
      "execution_count": null,
      "outputs": []
    },
    {
      "cell_type": "markdown",
      "source": [
        "3.What is the primary function of the tf.function in TensorFlow 2.0"
      ],
      "metadata": {
        "id": "SJUp8WW4GYwS"
      }
    },
    {
      "cell_type": "code",
      "source": [
        "\"\"\"\n",
        "The tf.function decorator in TensorFlow 2.0 transforms a regular Python function into a TensorFlow\n",
        "computational graph. This conversion boosts performance by allowing TensorFlow to execute the function\n",
        "more efficiently as part of its graph-based execution model.\n",
        "\"\"\""
      ],
      "metadata": {
        "id": "KKR1-HAasN3i"
      },
      "execution_count": null,
      "outputs": []
    },
    {
      "cell_type": "markdown",
      "source": [
        "4.What is the purpose of the Model class in TensorFlow 2.0"
      ],
      "metadata": {
        "id": "wX5g-oJqGYsH"
      }
    },
    {
      "cell_type": "code",
      "source": [
        "\"\"\"\n",
        "In TensorFlow 2.0, the Model class offers a structured and reusable approach to building and training\n",
        "neural networks. It bundles together layers, the forward computation (inference), and the training process,\n",
        "simplifying the overall management of model development.\n",
        "\"\"\""
      ],
      "metadata": {
        "id": "-dvYgk7rsOds"
      },
      "execution_count": null,
      "outputs": []
    },
    {
      "cell_type": "markdown",
      "source": [
        "5.How do you create a neural network using TensorFlow 2.0"
      ],
      "metadata": {
        "id": "993LTvg9GYn4"
      }
    },
    {
      "cell_type": "code",
      "source": [
        "\"\"\"\n",
        "In TensorFlow 2.0, you can build a neural network using the Keras API by creating layers with tf.keras.layers\n",
        "and organizing them either with a tf.keras.Sequential model for simplicity or by subclassing tf.keras.Model for\n",
        "greater customization and control.\n",
        "\"\"\""
      ],
      "metadata": {
        "id": "qWnNoQiVsPju"
      },
      "execution_count": null,
      "outputs": []
    },
    {
      "cell_type": "markdown",
      "source": [
        "6.What is the importance of Tensor Space in TensorFlow"
      ],
      "metadata": {
        "id": "c3F8_mWtGYkI"
      }
    },
    {
      "cell_type": "code",
      "source": [
        "\"\"\"\n",
        "In TensorFlow, the term \"tensor space\" refers to the collection of multi-dimensional arrays, called tensors,\n",
        "that are used throughout computations. These tensors store data, and TensorFlow performs various operations\n",
        "on them—like matrix multiplication, convolution, and other mathematical functions—during model training and\n",
        "inference.\n",
        "\"\"\""
      ],
      "metadata": {
        "id": "vhlQvi_fsPyu"
      },
      "execution_count": null,
      "outputs": []
    },
    {
      "cell_type": "markdown",
      "source": [
        "7.How can TensorBoard be integrated with TensorFlow 2.0"
      ],
      "metadata": {
        "id": "3kYn4EtDGYgG"
      }
    },
    {
      "cell_type": "code",
      "source": [
        "\"\"\"\n",
        "In TensorFlow 2.0, TensorBoard can be used by leveraging the tf.summary API to record metrics and visualizations\n",
        "while training a model. These logs can then be viewed in TensorBoard, providing insights into model performance\n",
        "and helping with debugging and optimization.\n",
        "\"\"\""
      ],
      "metadata": {
        "id": "d5aGkD55sQOi"
      },
      "execution_count": null,
      "outputs": []
    },
    {
      "cell_type": "markdown",
      "source": [
        "8.What is the purpose of TensorFlow Playground"
      ],
      "metadata": {
        "id": "vgBMLzLUGYcg"
      }
    },
    {
      "cell_type": "code",
      "source": [
        "\"\"\"\n",
        "TensorFlow Playground is a browser-based tool that lets users experiment with neural networks in an interactive way.\n",
        "It helps visualize how changes in hyperparameters and network structures impact the model’s learning and performance.\n",
        "\"\"\""
      ],
      "metadata": {
        "id": "IvZXNrdcsRFR"
      },
      "execution_count": null,
      "outputs": []
    },
    {
      "cell_type": "markdown",
      "source": [
        "9.What is Netron, and how is it useful for deep learning models"
      ],
      "metadata": {
        "id": "2yCtCVX7GYYU"
      }
    },
    {
      "cell_type": "code",
      "source": [
        "\"\"\"\n",
        "Netron is a visual tool for exploring neural network models, offering a graphical overview of model architectures\n",
        "saved in formats such as TensorFlow, Keras, and PyTorch. It allows users to easily examine layers, parameters, and\n",
        "connections through an intuitive interface.\n",
        "\"\"\""
      ],
      "metadata": {
        "id": "PsdFfx8lsReX"
      },
      "execution_count": null,
      "outputs": []
    },
    {
      "cell_type": "markdown",
      "source": [
        "10.What is the difference between TensorFlow and PyTorch"
      ],
      "metadata": {
        "id": "_iKO4pD8GYUk"
      }
    },
    {
      "cell_type": "code",
      "source": [
        "\"\"\"\n",
        "The key distinction between TensorFlow and PyTorch is how they handle computation graphs. TensorFlow initially\n",
        "relied on static graphs that needed to be defined and compiled before running, while PyTorch uses dynamic graphs\n",
        "that are created during runtime. PyTorch is generally viewed as more intuitive and aligned with standard Python\n",
        "coding practices, while TensorFlow is known for its robust tools and better deployment capabilities in production environments.\n",
        "\"\"\""
      ],
      "metadata": {
        "id": "RifVZiCDsR2g"
      },
      "execution_count": null,
      "outputs": []
    },
    {
      "cell_type": "markdown",
      "source": [
        "11.How do you install PyTorch"
      ],
      "metadata": {
        "id": "oW72RhAJGYP5"
      }
    },
    {
      "cell_type": "code",
      "source": [
        "\"\"\"\n",
        "You can install PyTorch by running pip install torch torchvision, or by visiting the official PyTorch website,\n",
        "where you'll find customized installation instructions tailored to your operating system and CUDA version.\n",
        "\"\"\""
      ],
      "metadata": {
        "id": "BJwteR-YsSYH"
      },
      "execution_count": null,
      "outputs": []
    },
    {
      "cell_type": "markdown",
      "source": [
        "12.What is the basic structure of a PyTorch neural network"
      ],
      "metadata": {
        "id": "APy_fMycsVQm"
      }
    },
    {
      "cell_type": "code",
      "source": [
        "\"\"\"\n",
        "To create a simple neural network in PyTorch, you define a class that inherits from torch.nn.Module and\n",
        "implement the forward() method to specify how data flows through the network. Layers such as torch.nn.Linear\n",
        "or torch.nn.Conv2d are usually defined in the constructor, and activation functions or other operations are\n",
        "applied within the forward() method.\n",
        "\"\"\""
      ],
      "metadata": {
        "id": "Yw9LWOP0sYsc"
      },
      "execution_count": null,
      "outputs": []
    },
    {
      "cell_type": "markdown",
      "source": [
        "13.What is the significance of tensors in PyTorch"
      ],
      "metadata": {
        "id": "ZIzQCpGIGYJM"
      }
    },
    {
      "cell_type": "code",
      "source": [
        "\"\"\"\n",
        "In PyTorch, tensors are multi-dimensional data structures, much like NumPy arrays, but with the advantage\n",
        "that they can also be processed on GPUs for faster computation. They serve as the core building blocks for\n",
        "storing data, executing mathematical operations, and holding the parameters of neural networks.\n",
        "\"\"\""
      ],
      "metadata": {
        "id": "lfwmvWbZsZH0"
      },
      "execution_count": null,
      "outputs": []
    },
    {
      "cell_type": "markdown",
      "source": [
        "14.What is the difference between torch.Tensor and torch.cuda.Tensor in PyTorch"
      ],
      "metadata": {
        "id": "B-A9R1DvGYF-"
      }
    },
    {
      "cell_type": "code",
      "source": [
        "\"\"\"\n",
        "torch.Tensor is used for computations on the CPU, while torch.cuda.Tensor is designed for running operations\n",
        "on the GPU. Transferring a tensor to the GPU enables faster processing by leveraging the GPU’s ability to\n",
        "handle parallel computations efficiently.\n",
        "\"\"\""
      ],
      "metadata": {
        "id": "tuQECTygsZaU"
      },
      "execution_count": null,
      "outputs": []
    },
    {
      "cell_type": "markdown",
      "source": [
        "15.What is the purpose of the torch.optim module in PyTorch"
      ],
      "metadata": {
        "id": "RRqkbbhcGYCy"
      }
    },
    {
      "cell_type": "code",
      "source": [
        "\"\"\"\n",
        "The torch.optim module in PyTorch provides a collection of optimization algorithms like SGD, Adam, and RMSprop.\n",
        "These optimizers are responsible for adjusting the model's parameters during training using the gradients calculated\n",
        "during backpropagation.\n",
        "\"\"\""
      ],
      "metadata": {
        "id": "dscR_xuEsZ3y"
      },
      "execution_count": null,
      "outputs": []
    },
    {
      "cell_type": "markdown",
      "source": [
        "16.What are some common activation functions used in neural networks"
      ],
      "metadata": {
        "id": "wCQkQ-UwGX_e"
      }
    },
    {
      "cell_type": "code",
      "source": [
        "\"\"\"\n",
        "Popular activation functions in neural networks include ReLU (Rectified Linear Unit), Sigmoid, Tanh, and Softmax.\n",
        "They add non-linearity to the model, which is essential for learning and representing complex relationships in the data.\n",
        "\"\"\""
      ],
      "metadata": {
        "id": "q99Y-T9-saIY"
      },
      "execution_count": null,
      "outputs": []
    },
    {
      "cell_type": "markdown",
      "source": [
        "17.What is the difference between torch.nn.Module and torch.nn.Sequential in PyTorch"
      ],
      "metadata": {
        "id": "4tI6ei8EGX8a"
      }
    },
    {
      "cell_type": "code",
      "source": [
        "\"\"\"\n",
        "torch.nn.Module serves as the foundational class for creating all neural network components, allowing you to\n",
        "define custom layers and operations. On the other hand, torch.nn.Sequential is a simpler container that lets you\n",
        "stack layers in a straight sequence, eliminating the need to manually implement the forward() method.\n",
        "\"\"\""
      ],
      "metadata": {
        "id": "O1_AHlh-sabI"
      },
      "execution_count": null,
      "outputs": []
    },
    {
      "cell_type": "markdown",
      "source": [
        "18.How can you monitor training progress in TensorFlow 2.0"
      ],
      "metadata": {
        "id": "RXinvXjwGX5U"
      }
    },
    {
      "cell_type": "code",
      "source": [
        "\"\"\"\n",
        "In TensorFlow 2.0, you can keep track of training progress using callbacks like tf.keras.callbacks.History,\n",
        "which records metrics such as loss and accuracy. Additionally, you can use TensorBoard to visualize these\n",
        "metrics in real time while training the model.\n",
        "\"\"\""
      ],
      "metadata": {
        "id": "PGod-WDcsav7"
      },
      "execution_count": null,
      "outputs": []
    },
    {
      "cell_type": "markdown",
      "source": [
        "19.How does the Keras API fit into TensorFlow 2.0"
      ],
      "metadata": {
        "id": "-DvMV-q4GX2K"
      }
    },
    {
      "cell_type": "code",
      "source": [
        "\"\"\"\n",
        "Keras provides a user-friendly interface for designing and training deep learning models. It streamlines\n",
        "the process of building, training, and evaluating models by handling many of the complex, low-level\n",
        "operations behind the scenes.\n",
        "\"\"\""
      ],
      "metadata": {
        "id": "4yloMo3nsbe2"
      },
      "execution_count": null,
      "outputs": []
    },
    {
      "cell_type": "markdown",
      "source": [
        "20.What is an example of a deep learning project that can be implemented using TensorFlow 2.0"
      ],
      "metadata": {
        "id": "hFQKvkWUGXxO"
      }
    },
    {
      "cell_type": "code",
      "source": [
        "\"\"\"\n",
        "A typical deep learning project with TensorFlow 2.0 could be image classification, where a Convolutional\n",
        "Neural Network (CNN) is trained to recognize images from datasets such as CIFAR-10 or MNIST. The process\n",
        "includes steps like preparing the data, building the model, training it, and assessing its performance.\n",
        "\"\"\""
      ],
      "metadata": {
        "id": "0L1rO4tCsbuK"
      },
      "execution_count": null,
      "outputs": []
    },
    {
      "cell_type": "markdown",
      "source": [
        "21.What is the main advantage of using pre-trained models in TensorFlow and PyTorch"
      ],
      "metadata": {
        "id": "4I_RRIplGXoy"
      }
    },
    {
      "cell_type": "code",
      "source": [
        "\"\"\"\n",
        "The primary benefit of using pre-trained models is enabling transfer learning, where a model already trained\n",
        "on a large dataset can be adapted to a new, specific task using a smaller dataset. This approach reduces both\n",
        "training time and computational effort.\n",
        "\"\"\""
      ],
      "metadata": {
        "id": "LHN19hZfscBh"
      },
      "execution_count": null,
      "outputs": []
    },
    {
      "cell_type": "markdown",
      "source": [
        "#Practical"
      ],
      "metadata": {
        "id": "wqTFYGM1sdBN"
      }
    },
    {
      "cell_type": "code",
      "execution_count": null,
      "metadata": {
        "id": "GT7rPeZY0LaN"
      },
      "outputs": [],
      "source": [
        "#1. How do you install and verify that TensorFlow 2.0 was installed successfully\n",
        "\n",
        "!pip install tensorflow==2.0.0\n",
        "\n",
        "import tensorflow as tf\n",
        "print(\"TensorFlow version:\", tf.__version__)"
      ]
    },
    {
      "cell_type": "code",
      "source": [
        "#2. How can you define a simple function in TensorFlow 2.0 to perform addition\n",
        "\n",
        "import tensorflow as tf\n",
        "\n",
        "@tf.function\n",
        "def add_numbers(num1, num2):\n",
        "    return num1 + num2\n",
        "\n",
        "sum_result = add_numbers(5, 3)\n",
        "print(\"Result of addition:\", sum_result.numpy())\n"
      ],
      "metadata": {
        "id": "dIIcvlx7G3-k",
        "colab": {
          "base_uri": "https://localhost:8080/"
        },
        "outputId": "39b8d29a-73bb-4ce2-b9f0-83283de2e344"
      },
      "execution_count": 9,
      "outputs": [
        {
          "output_type": "stream",
          "name": "stdout",
          "text": [
            "Result of addition: 8\n"
          ]
        }
      ]
    },
    {
      "cell_type": "code",
      "source": [
        "#3. How can you create a simple neural network in TensorFlow 2.0 with one hidden layer\n",
        "\n",
        "import tensorflow as tf\n",
        "from tensorflow.keras.layers import Dense\n",
        "from tensorflow.keras.models import Sequential\n",
        "\n",
        "# Define the neural network model\n",
        "neural_net = Sequential([\n",
        "    Dense(64, activation='relu', input_shape=(10,)),\n",
        "    Dense(32, activation='relu'),\n",
        "    Dense(1, activation='sigmoid')\n",
        "])\n",
        "\n",
        "# Print the model architecture summary\n",
        "neural_net.summary()\n"
      ],
      "metadata": {
        "id": "_NX-EPfQG34d",
        "colab": {
          "base_uri": "https://localhost:8080/",
          "height": 280
        },
        "outputId": "f994203f-60d5-47c4-80d7-f9ea84c856c6"
      },
      "execution_count": 10,
      "outputs": [
        {
          "output_type": "stream",
          "name": "stderr",
          "text": [
            "/usr/local/lib/python3.11/dist-packages/keras/src/layers/core/dense.py:87: UserWarning: Do not pass an `input_shape`/`input_dim` argument to a layer. When using Sequential models, prefer using an `Input(shape)` object as the first layer in the model instead.\n",
            "  super().__init__(activity_regularizer=activity_regularizer, **kwargs)\n"
          ]
        },
        {
          "output_type": "display_data",
          "data": {
            "text/plain": [
              "\u001b[1mModel: \"sequential\"\u001b[0m\n"
            ],
            "text/html": [
              "<pre style=\"white-space:pre;overflow-x:auto;line-height:normal;font-family:Menlo,'DejaVu Sans Mono',consolas,'Courier New',monospace\"><span style=\"font-weight: bold\">Model: \"sequential\"</span>\n",
              "</pre>\n"
            ]
          },
          "metadata": {}
        },
        {
          "output_type": "display_data",
          "data": {
            "text/plain": [
              "┏━━━━━━━━━━━━━━━━━━━━━━━━━━━━━━━━━┳━━━━━━━━━━━━━━━━━━━━━━━━┳━━━━━━━━━━━━━━━┓\n",
              "┃\u001b[1m \u001b[0m\u001b[1mLayer (type)                   \u001b[0m\u001b[1m \u001b[0m┃\u001b[1m \u001b[0m\u001b[1mOutput Shape          \u001b[0m\u001b[1m \u001b[0m┃\u001b[1m \u001b[0m\u001b[1m      Param #\u001b[0m\u001b[1m \u001b[0m┃\n",
              "┡━━━━━━━━━━━━━━━━━━━━━━━━━━━━━━━━━╇━━━━━━━━━━━━━━━━━━━━━━━━╇━━━━━━━━━━━━━━━┩\n",
              "│ dense (\u001b[38;5;33mDense\u001b[0m)                   │ (\u001b[38;5;45mNone\u001b[0m, \u001b[38;5;34m64\u001b[0m)             │           \u001b[38;5;34m704\u001b[0m │\n",
              "├─────────────────────────────────┼────────────────────────┼───────────────┤\n",
              "│ dense_1 (\u001b[38;5;33mDense\u001b[0m)                 │ (\u001b[38;5;45mNone\u001b[0m, \u001b[38;5;34m32\u001b[0m)             │         \u001b[38;5;34m2,080\u001b[0m │\n",
              "├─────────────────────────────────┼────────────────────────┼───────────────┤\n",
              "│ dense_2 (\u001b[38;5;33mDense\u001b[0m)                 │ (\u001b[38;5;45mNone\u001b[0m, \u001b[38;5;34m1\u001b[0m)              │            \u001b[38;5;34m33\u001b[0m │\n",
              "└─────────────────────────────────┴────────────────────────┴───────────────┘\n"
            ],
            "text/html": [
              "<pre style=\"white-space:pre;overflow-x:auto;line-height:normal;font-family:Menlo,'DejaVu Sans Mono',consolas,'Courier New',monospace\">┏━━━━━━━━━━━━━━━━━━━━━━━━━━━━━━━━━┳━━━━━━━━━━━━━━━━━━━━━━━━┳━━━━━━━━━━━━━━━┓\n",
              "┃<span style=\"font-weight: bold\"> Layer (type)                    </span>┃<span style=\"font-weight: bold\"> Output Shape           </span>┃<span style=\"font-weight: bold\">       Param # </span>┃\n",
              "┡━━━━━━━━━━━━━━━━━━━━━━━━━━━━━━━━━╇━━━━━━━━━━━━━━━━━━━━━━━━╇━━━━━━━━━━━━━━━┩\n",
              "│ dense (<span style=\"color: #0087ff; text-decoration-color: #0087ff\">Dense</span>)                   │ (<span style=\"color: #00d7ff; text-decoration-color: #00d7ff\">None</span>, <span style=\"color: #00af00; text-decoration-color: #00af00\">64</span>)             │           <span style=\"color: #00af00; text-decoration-color: #00af00\">704</span> │\n",
              "├─────────────────────────────────┼────────────────────────┼───────────────┤\n",
              "│ dense_1 (<span style=\"color: #0087ff; text-decoration-color: #0087ff\">Dense</span>)                 │ (<span style=\"color: #00d7ff; text-decoration-color: #00d7ff\">None</span>, <span style=\"color: #00af00; text-decoration-color: #00af00\">32</span>)             │         <span style=\"color: #00af00; text-decoration-color: #00af00\">2,080</span> │\n",
              "├─────────────────────────────────┼────────────────────────┼───────────────┤\n",
              "│ dense_2 (<span style=\"color: #0087ff; text-decoration-color: #0087ff\">Dense</span>)                 │ (<span style=\"color: #00d7ff; text-decoration-color: #00d7ff\">None</span>, <span style=\"color: #00af00; text-decoration-color: #00af00\">1</span>)              │            <span style=\"color: #00af00; text-decoration-color: #00af00\">33</span> │\n",
              "└─────────────────────────────────┴────────────────────────┴───────────────┘\n",
              "</pre>\n"
            ]
          },
          "metadata": {}
        },
        {
          "output_type": "display_data",
          "data": {
            "text/plain": [
              "\u001b[1m Total params: \u001b[0m\u001b[38;5;34m2,817\u001b[0m (11.00 KB)\n"
            ],
            "text/html": [
              "<pre style=\"white-space:pre;overflow-x:auto;line-height:normal;font-family:Menlo,'DejaVu Sans Mono',consolas,'Courier New',monospace\"><span style=\"font-weight: bold\"> Total params: </span><span style=\"color: #00af00; text-decoration-color: #00af00\">2,817</span> (11.00 KB)\n",
              "</pre>\n"
            ]
          },
          "metadata": {}
        },
        {
          "output_type": "display_data",
          "data": {
            "text/plain": [
              "\u001b[1m Trainable params: \u001b[0m\u001b[38;5;34m2,817\u001b[0m (11.00 KB)\n"
            ],
            "text/html": [
              "<pre style=\"white-space:pre;overflow-x:auto;line-height:normal;font-family:Menlo,'DejaVu Sans Mono',consolas,'Courier New',monospace\"><span style=\"font-weight: bold\"> Trainable params: </span><span style=\"color: #00af00; text-decoration-color: #00af00\">2,817</span> (11.00 KB)\n",
              "</pre>\n"
            ]
          },
          "metadata": {}
        },
        {
          "output_type": "display_data",
          "data": {
            "text/plain": [
              "\u001b[1m Non-trainable params: \u001b[0m\u001b[38;5;34m0\u001b[0m (0.00 B)\n"
            ],
            "text/html": [
              "<pre style=\"white-space:pre;overflow-x:auto;line-height:normal;font-family:Menlo,'DejaVu Sans Mono',consolas,'Courier New',monospace\"><span style=\"font-weight: bold\"> Non-trainable params: </span><span style=\"color: #00af00; text-decoration-color: #00af00\">0</span> (0.00 B)\n",
              "</pre>\n"
            ]
          },
          "metadata": {}
        }
      ]
    },
    {
      "cell_type": "code",
      "source": [
        "#4. How can you visualize the training progress using TensorFlow and Matplotlib\n",
        "\n",
        "import numpy as np\n",
        "\n",
        "# Compile the model\n",
        "neural_net.compile(optimizer='adam', loss='binary_crossentropy', metrics=['accuracy'])\n",
        "\n",
        "# Generate random training data\n",
        "features_train = np.random.rand(100, 10)\n",
        "labels_train = np.random.randint(2, size=100)\n",
        "\n",
        "# Train the model\n",
        "training_history = neural_net.fit(features_train, labels_train, epochs=5, batch_size=10, verbose=1)\n",
        "\n",
        "import matplotlib.pyplot as plt\n",
        "\n",
        "# Plot loss and accuracy\n",
        "plt.plot(training_history.history['loss'], label='Loss')\n",
        "plt.plot(training_history.history['accuracy'], label='Accuracy')\n",
        "plt.xlabel('Epochs')\n",
        "plt.ylabel('Metric')\n",
        "plt.legend()\n",
        "plt.title('Training Loss and Accuracy')\n",
        "plt.show()\n"
      ],
      "metadata": {
        "id": "vHnGsrP9G3zp",
        "colab": {
          "base_uri": "https://localhost:8080/",
          "height": 646
        },
        "outputId": "3875ff11-7aa3-4415-8d24-17885a345128"
      },
      "execution_count": 11,
      "outputs": [
        {
          "output_type": "stream",
          "name": "stdout",
          "text": [
            "Epoch 1/5\n",
            "\u001b[1m10/10\u001b[0m \u001b[32m━━━━━━━━━━━━━━━━━━━━\u001b[0m\u001b[37m\u001b[0m \u001b[1m2s\u001b[0m 5ms/step - accuracy: 0.5364 - loss: 0.6940\n",
            "Epoch 2/5\n",
            "\u001b[1m10/10\u001b[0m \u001b[32m━━━━━━━━━━━━━━━━━━━━\u001b[0m\u001b[37m\u001b[0m \u001b[1m0s\u001b[0m 4ms/step - accuracy: 0.5778 - loss: 0.6859 \n",
            "Epoch 3/5\n",
            "\u001b[1m10/10\u001b[0m \u001b[32m━━━━━━━━━━━━━━━━━━━━\u001b[0m\u001b[37m\u001b[0m \u001b[1m0s\u001b[0m 4ms/step - accuracy: 0.6491 - loss: 0.6760 \n",
            "Epoch 4/5\n",
            "\u001b[1m10/10\u001b[0m \u001b[32m━━━━━━━━━━━━━━━━━━━━\u001b[0m\u001b[37m\u001b[0m \u001b[1m0s\u001b[0m 4ms/step - accuracy: 0.4986 - loss: 0.6950 \n",
            "Epoch 5/5\n",
            "\u001b[1m10/10\u001b[0m \u001b[32m━━━━━━━━━━━━━━━━━━━━\u001b[0m\u001b[37m\u001b[0m \u001b[1m0s\u001b[0m 4ms/step - accuracy: 0.6161 - loss: 0.6842 \n"
          ]
        },
        {
          "output_type": "display_data",
          "data": {
            "text/plain": [
              "<Figure size 640x480 with 1 Axes>"
            ],
            "image/png": "[encoded data removed]"
          },
          "metadata": {}
        }
      ]
    },
    {
      "cell_type": "code",
      "source": [
        "#5.How do you install PyTorch and verify the PyTorch installation\n",
        "\n",
        "# Install PyTorch and torchvision\n",
        "!pip install torch torchvision\n",
        "\n",
        "import torch as th\n",
        "print(\"PyTorch version:\", th.__version__)\n",
        "print(\"CUDA available:\", th.cuda.is_available())\n"
      ],
      "metadata": {
        "id": "4nXJUJjkG3vq",
        "colab": {
          "base_uri": "https://localhost:8080/",
          "height": 1000
        },
        "outputId": "f823656c-be30-4670-b444-57f0b2dec13a"
      },
      "execution_count": 12,
      "outputs": [
        {
          "output_type": "stream",
          "name": "stdout",
          "text": [
            "Requirement already satisfied: torch in /usr/local/lib/python3.11/dist-packages (2.6.0+cu124)\n",
            "Requirement already satisfied: torchvision in /usr/local/lib/python3.11/dist-packages (0.21.0+cu124)\n",
            "Requirement already satisfied: filelock in /usr/local/lib/python3.11/dist-packages (from torch) (3.18.0)\n",
            "Requirement already satisfied: typing-extensions>=4.10.0 in /usr/local/lib/python3.11/dist-packages (from torch) (4.14.0)\n",
            "Requirement already satisfied: networkx in /usr/local/lib/python3.11/dist-packages (from torch) (3.5)\n",
            "Requirement already satisfied: jinja2 in /usr/local/lib/python3.11/dist-packages (from torch) (3.1.6)\n",
            "Requirement already satisfied: fsspec in /usr/local/lib/python3.11/dist-packages (from torch) (2025.3.2)\n",
            "Collecting nvidia-cuda-nvrtc-cu12==12.4.127 (from torch)\n",
            "  Downloading nvidia_cuda_nvrtc_cu12-12.4.127-py3-none-manylinux2014_x86_64.whl.metadata (1.5 kB)\n",
            "Collecting nvidia-cuda-runtime-cu12==12.4.127 (from torch)\n",
            "  Downloading nvidia_cuda_runtime_cu12-12.4.127-py3-none-manylinux2014_x86_64.whl.metadata (1.5 kB)\n",
            "Collecting nvidia-cuda-cupti-cu12==12.4.127 (from torch)\n",
            "  Downloading nvidia_cuda_cupti_cu12-12.4.127-py3-none-manylinux2014_x86_64.whl.metadata (1.6 kB)\n",
            "Collecting nvidia-cudnn-cu12==9.1.0.70 (from torch)\n",
            "  Downloading nvidia_cudnn_cu12-9.1.0.70-py3-none-manylinux2014_x86_64.whl.metadata (1.6 kB)\n",
            "Collecting nvidia-cublas-cu12==12.4.5.8 (from torch)\n",
            "  Downloading nvidia_cublas_cu12-12.4.5.8-py3-none-manylinux2014_x86_64.whl.metadata (1.5 kB)\n",
            "Collecting nvidia-cufft-cu12==11.2.1.3 (from torch)\n",
            "  Downloading nvidia_cufft_cu12-11.2.1.3-py3-none-manylinux2014_x86_64.whl.metadata (1.5 kB)\n",
            "Collecting nvidia-curand-cu12==10.3.5.147 (from torch)\n",
            "  Downloading nvidia_curand_cu12-10.3.5.147-py3-none-manylinux2014_x86_64.whl.metadata (1.5 kB)\n",
            "Collecting nvidia-cusolver-cu12==11.6.1.9 (from torch)\n",
            "  Downloading nvidia_cusolver_cu12-11.6.1.9-py3-none-manylinux2014_x86_64.whl.metadata (1.6 kB)\n",
            "Collecting nvidia-cusparse-cu12==12.3.1.170 (from torch)\n",
            "  Downloading nvidia_cusparse_cu12-12.3.1.170-py3-none-manylinux2014_x86_64.whl.metadata (1.6 kB)\n",
            "Requirement already satisfied: nvidia-cusparselt-cu12==0.6.2 in /usr/local/lib/python3.11/dist-packages (from torch) (0.6.2)\n",
            "Requirement already satisfied: nvidia-nccl-cu12==2.21.5 in /usr/local/lib/python3.11/dist-packages (from torch) (2.21.5)\n",
            "Requirement already satisfied: nvidia-nvtx-cu12==12.4.127 in /usr/local/lib/python3.11/dist-packages (from torch) (12.4.127)\n",
            "Collecting nvidia-nvjitlink-cu12==12.4.127 (from torch)\n",
            "  Downloading nvidia_nvjitlink_cu12-12.4.127-py3-none-manylinux2014_x86_64.whl.metadata (1.5 kB)\n",
            "Requirement already satisfied: triton==3.2.0 in /usr/local/lib/python3.11/dist-packages (from torch) (3.2.0)\n",
            "Requirement already satisfied: sympy==1.13.1 in /usr/local/lib/python3.11/dist-packages (from torch) (1.13.1)\n",
            "Requirement already satisfied: mpmath<1.4,>=1.1.0 in /usr/local/lib/python3.11/dist-packages (from sympy==1.13.1->torch) (1.3.0)\n",
            "Requirement already satisfied: numpy in /usr/local/lib/python3.11/dist-packages (from torchvision) (2.0.2)\n",
            "Requirement already satisfied: pillow!=8.3.*,>=5.3.0 in /usr/local/lib/python3.11/dist-packages (from torchvision) (11.2.1)\n",
            "Requirement already satisfied: MarkupSafe>=2.0 in /usr/local/lib/python3.11/dist-packages (from jinja2->torch) (3.0.2)\n",
            "Downloading nvidia_cublas_cu12-12.4.5.8-py3-none-manylinux2014_x86_64.whl (363.4 MB)\n",
            "\u001b[2K   \u001b[90m━━━━━━━━━━━━━━━━━━━━━━━━━━━━━━━━━━━━━━━━\u001b[0m \u001b[32m363.4/363.4 MB\u001b[0m \u001b[31m1.5 MB/s\u001b[0m eta \u001b[36m0:00:00\u001b[0m\n",
            "\u001b[?25hDownloading nvidia_cuda_cupti_cu12-12.4.127-py3-none-manylinux2014_x86_64.whl (13.8 MB)\n",
            "\u001b[2K   \u001b[90m━━━━━━━━━━━━━━━━━━━━━━━━━━━━━━━━━━━━━━━━\u001b[0m \u001b[32m13.8/13.8 MB\u001b[0m \u001b[31m92.9 MB/s\u001b[0m eta \u001b[36m0:00:00\u001b[0m\n",
            "\u001b[?25hDownloading nvidia_cuda_nvrtc_cu12-12.4.127-py3-none-manylinux2014_x86_64.whl (24.6 MB)\n",
            "\u001b[2K   \u001b[90m━━━━━━━━━━━━━━━━━━━━━━━━━━━━━━━━━━━━━━━━\u001b[0m \u001b[32m24.6/24.6 MB\u001b[0m \u001b[31m78.4 MB/s\u001b[0m eta \u001b[36m0:00:00\u001b[0m\n",
            "\u001b[?25hDownloading nvidia_cuda_runtime_cu12-12.4.127-py3-none-manylinux2014_x86_64.whl (883 kB)\n",
            "\u001b[2K   \u001b[90m━━━━━━━━━━━━━━━━━━━━━━━━━━━━━━━━━━━━━━━━\u001b[0m \u001b[32m883.7/883.7 kB\u001b[0m \u001b[31m48.0 MB/s\u001b[0m eta \u001b[36m0:00:00\u001b[0m\n",
            "\u001b[?25hDownloading nvidia_cudnn_cu12-9.1.0.70-py3-none-manylinux2014_x86_64.whl (664.8 MB)\n",
            "\u001b[2K   \u001b[90m━━━━━━━━━━━━━━━━━━━━━━━━━━━━━━━━━━━━━━━\u001b[0m \u001b[32m664.8/664.8 MB\u001b[0m \u001b[31m877.4 kB/s\u001b[0m eta \u001b[36m0:00:00\u001b[0m\n",
            "\u001b[?25hDownloading nvidia_cufft_cu12-11.2.1.3-py3-none-manylinux2014_x86_64.whl (211.5 MB)\n",
            "\u001b[2K   \u001b[90m━━━━━━━━━━━━━━━━━━━━━━━━━━━━━━━━━━━━━━━━\u001b[0m \u001b[32m211.5/211.5 MB\u001b[0m \u001b[31m4.9 MB/s\u001b[0m eta \u001b[36m0:00:00\u001b[0m\n",
            "\u001b[?25hDownloading nvidia_curand_cu12-10.3.5.147-py3-none-manylinux2014_x86_64.whl (56.3 MB)\n",
            "\u001b[2K   \u001b[90m━━━━━━━━━━━━━━━━━━━━━━━━━━━━━━━━━━━━━━━━\u001b[0m \u001b[32m56.3/56.3 MB\u001b[0m \u001b[31m11.0 MB/s\u001b[0m eta \u001b[36m0:00:00\u001b[0m\n",
            "\u001b[?25hDownloading nvidia_cusolver_cu12-11.6.1.9-py3-none-manylinux2014_x86_64.whl (127.9 MB)\n",
            "\u001b[2K   \u001b[90m━━━━━━━━━━━━━━━━━━━━━━━━━━━━━━━━━━━━━━━━\u001b[0m \u001b[32m127.9/127.9 MB\u001b[0m \u001b[31m8.4 MB/s\u001b[0m eta \u001b[36m0:00:00\u001b[0m\n",
            "\u001b[?25hDownloading nvidia_cusparse_cu12-12.3.1.170-py3-none-manylinux2014_x86_64.whl (207.5 MB)\n",
            "\u001b[2K   \u001b[90m━━━━━━━━━━━━━━━━━━━━━━━━━━━━━━━━━━━━━━━━\u001b[0m \u001b[32m207.5/207.5 MB\u001b[0m \u001b[31m5.4 MB/s\u001b[0m eta \u001b[36m0:00:00\u001b[0m\n",
            "\u001b[?25hDownloading nvidia_nvjitlink_cu12-12.4.127-py3-none-manylinux2014_x86_64.whl (21.1 MB)\n",
            "\u001b[2K   \u001b[90m━━━━━━━━━━━━━━━━━━━━━━━━━━━━━━━━━━━━━━━━\u001b[0m \u001b[32m21.1/21.1 MB\u001b[0m \u001b[31m86.1 MB/s\u001b[0m eta \u001b[36m0:00:00\u001b[0m\n",
            "\u001b[?25hInstalling collected packages: nvidia-nvjitlink-cu12, nvidia-curand-cu12, nvidia-cufft-cu12, nvidia-cuda-runtime-cu12, nvidia-cuda-nvrtc-cu12, nvidia-cuda-cupti-cu12, nvidia-cublas-cu12, nvidia-cusparse-cu12, nvidia-cudnn-cu12, nvidia-cusolver-cu12\n",
            "  Attempting uninstall: nvidia-nvjitlink-cu12\n",
            "    Found existing installation: nvidia-nvjitlink-cu12 12.5.82\n",
            "    Uninstalling nvidia-nvjitlink-cu12-12.5.82:\n",
            "      Successfully uninstalled nvidia-nvjitlink-cu12-12.5.82\n",
            "  Attempting uninstall: nvidia-curand-cu12\n",
            "    Found existing installation: nvidia-curand-cu12 10.3.6.82\n",
            "    Uninstalling nvidia-curand-cu12-10.3.6.82:\n",
            "      Successfully uninstalled nvidia-curand-cu12-10.3.6.82\n",
            "  Attempting uninstall: nvidia-cufft-cu12\n",
            "    Found existing installation: nvidia-cufft-cu12 11.2.3.61\n",
            "    Uninstalling nvidia-cufft-cu12-11.2.3.61:\n",
            "      Successfully uninstalled nvidia-cufft-cu12-11.2.3.61\n",
            "  Attempting uninstall: nvidia-cuda-runtime-cu12\n",
            "    Found existing installation: nvidia-cuda-runtime-cu12 12.5.82\n",
            "    Uninstalling nvidia-cuda-runtime-cu12-12.5.82:\n",
            "      Successfully uninstalled nvidia-cuda-runtime-cu12-12.5.82\n",
            "  Attempting uninstall: nvidia-cuda-nvrtc-cu12\n",
            "    Found existing installation: nvidia-cuda-nvrtc-cu12 12.5.82\n",
            "    Uninstalling nvidia-cuda-nvrtc-cu12-12.5.82:\n",
            "      Successfully uninstalled nvidia-cuda-nvrtc-cu12-12.5.82\n",
            "  Attempting uninstall: nvidia-cuda-cupti-cu12\n",
            "    Found existing installation: nvidia-cuda-cupti-cu12 12.5.82\n",
            "    Uninstalling nvidia-cuda-cupti-cu12-12.5.82:\n",
            "      Successfully uninstalled nvidia-cuda-cupti-cu12-12.5.82\n",
            "  Attempting uninstall: nvidia-cublas-cu12\n",
            "    Found existing installation: nvidia-cublas-cu12 12.5.3.2\n",
            "    Uninstalling nvidia-cublas-cu12-12.5.3.2:\n",
            "      Successfully uninstalled nvidia-cublas-cu12-12.5.3.2\n",
            "  Attempting uninstall: nvidia-cusparse-cu12\n",
            "    Found existing installation: nvidia-cusparse-cu12 12.5.1.3\n",
            "    Uninstalling nvidia-cusparse-cu12-12.5.1.3:\n",
            "      Successfully uninstalled nvidia-cusparse-cu12-12.5.1.3\n",
            "  Attempting uninstall: nvidia-cudnn-cu12\n",
            "    Found existing installation: nvidia-cudnn-cu12 9.3.0.75\n",
            "    Uninstalling nvidia-cudnn-cu12-9.3.0.75:\n",
            "      Successfully uninstalled nvidia-cudnn-cu12-9.3.0.75\n",
            "  Attempting uninstall: nvidia-cusolver-cu12\n",
            "    Found existing installation: nvidia-cusolver-cu12 11.6.3.83\n",
            "    Uninstalling nvidia-cusolver-cu12-11.6.3.83:\n",
            "      Successfully uninstalled nvidia-cusolver-cu12-11.6.3.83\n",
            "Successfully installed nvidia-cublas-cu12-12.4.5.8 nvidia-cuda-cupti-cu12-12.4.127 nvidia-cuda-nvrtc-cu12-12.4.127 nvidia-cuda-runtime-cu12-12.4.127 nvidia-cudnn-cu12-9.1.0.70 nvidia-cufft-cu12-11.2.1.3 nvidia-curand-cu12-10.3.5.147 nvidia-cusolver-cu12-11.6.1.9 nvidia-cusparse-cu12-12.3.1.170 nvidia-nvjitlink-cu12-12.4.127\n"
          ]
        },
        {
          "output_type": "display_data",
          "data": {
            "application/vnd.colab-display-data+json": {
              "pip_warning": {
                "packages": [
                  "nvidia"
                ]
              },
              "id": "2b1d8618115b42f6b48332d16c3bf763"
            }
          },
          "metadata": {}
        },
        {
          "output_type": "stream",
          "name": "stdout",
          "text": [
            "PyTorch version: 2.6.0+cu124\n",
            "CUDA available: False\n"
          ]
        }
      ]
    },
    {
      "cell_type": "code",
      "source": [
        "import torch as th\n",
        "print(\"PyTorch version:\", th.__version__)\n",
        "print(\"CUDA available:\", th.cuda.is_available())"
      ],
      "metadata": {
        "colab": {
          "base_uri": "https://localhost:8080/"
        },
        "id": "9AAhf-sJHD2D",
        "outputId": "8852456b-9321-4841-f458-cf9f10816586"
      },
      "execution_count": 1,
      "outputs": [
        {
          "output_type": "stream",
          "name": "stdout",
          "text": [
            "PyTorch version: 2.6.0+cu124\n",
            "CUDA available: False\n"
          ]
        }
      ]
    },
    {
      "cell_type": "code",
      "source": [
        "#6.How do you create a simple neural network in PyTorch\n",
        "\n",
        "import torch\n",
        "import torch.nn as nn\n",
        "\n",
        "# Define a custom neural network model\n",
        "class CustomNet(nn.Module):\n",
        "    def __init__(self):\n",
        "        super(CustomNet, self).__init__()\n",
        "        self.hidden_layer = nn.Linear(10, 64)\n",
        "        self.output_layer = nn.Linear(64, 1)\n",
        "\n",
        "    def forward(self, input_tensor):\n",
        "        x = torch.relu(self.hidden_layer(input_tensor))\n",
        "        x = torch.sigmoid(self.output_layer(x))\n",
        "        return x\n",
        "\n",
        "neural_model = CustomNet()\n",
        "print(neural_model)\n"
      ],
      "metadata": {
        "id": "ot2Ltu6EG3rG",
        "colab": {
          "base_uri": "https://localhost:8080/"
        },
        "outputId": "5b4ad9ec-b678-4412-efa8-bea90cca7437"
      },
      "execution_count": 2,
      "outputs": [
        {
          "output_type": "stream",
          "name": "stdout",
          "text": [
            "CustomNet(\n",
            "  (hidden_layer): Linear(in_features=10, out_features=64, bias=True)\n",
            "  (output_layer): Linear(in_features=64, out_features=1, bias=True)\n",
            ")\n"
          ]
        }
      ]
    },
    {
      "cell_type": "code",
      "source": [
        "  #7.How do you define a loss function and optimizer in PyTorch\n",
        "\n",
        "import torch.optim as optim\n",
        "\n",
        "# Define the loss function and optimizer\n",
        "loss_function = nn.BCELoss()\n",
        "model_optimizer = optim.Adam(neural_model.parameters(), lr=0.001)\n",
        "\n",
        "print(\"Loss function:\", loss_function)\n",
        "print(\"Optimizer:\", model_optimizer)\n"
      ],
      "metadata": {
        "id": "Z5tNGKf5G3mD",
        "colab": {
          "base_uri": "https://localhost:8080/"
        },
        "outputId": "9064cd46-d624-45b4-feb5-896be2f2a366"
      },
      "execution_count": 3,
      "outputs": [
        {
          "output_type": "stream",
          "name": "stdout",
          "text": [
            "Loss function: BCELoss()\n",
            "Optimizer: Adam (\n",
            "Parameter Group 0\n",
            "    amsgrad: False\n",
            "    betas: (0.9, 0.999)\n",
            "    capturable: False\n",
            "    differentiable: False\n",
            "    eps: 1e-08\n",
            "    foreach: None\n",
            "    fused: None\n",
            "    lr: 0.001\n",
            "    maximize: False\n",
            "    weight_decay: 0\n",
            ")\n"
          ]
        }
      ]
    },
    {
      "cell_type": "code",
      "source": [
        "#8. How do you implement a custom loss function in PyTorch\n",
        "\n",
        "import torch\n",
        "import torch.nn as nn\n",
        "import torch.optim as optim\n",
        "\n",
        "# Define a custom loss function (Mean Absolute Error)\n",
        "class MAELoss(nn.Module):\n",
        "    def __init__(self):\n",
        "        super(MAELoss, self).__init__()\n",
        "\n",
        "    def forward(self, preds, targets):\n",
        "        return torch.mean(torch.abs(preds - targets))\n",
        "\n",
        "# Define a simple neural network model\n",
        "class RegressionNet(nn.Module):\n",
        "    def __init__(self):\n",
        "        super(RegressionNet, self).__init__()\n",
        "        self.input_layer = nn.Linear(10, 64)\n",
        "        self.output_layer = nn.Linear(64, 1)\n",
        "\n",
        "    def forward(self, input_data):\n",
        "        x = torch.relu(self.input_layer(input_data))\n",
        "        return torch.sigmoid(self.output_layer(x))\n",
        "\n",
        "# Initialize model, loss function, and optimizer\n",
        "net = RegressionNet()\n",
        "loss_fn = MAELoss()\n",
        "optimizer = optim.Adam(net.parameters(), lr=0.001)\n",
        "\n",
        "# Generate random training data\n",
        "train_features = torch.rand((100, 10))\n",
        "train_labels = torch.rand((100, 1))\n",
        "\n",
        "# Training loop\n",
        "num_epochs = 5\n",
        "for epoch_idx in range(num_epochs):\n",
        "    optimizer.zero_grad()\n",
        "    predictions = net(train_features)\n",
        "    loss_value = loss_fn(predictions, train_labels)\n",
        "    loss_value.backward()\n",
        "    optimizer.step()\n",
        "    print(f\"Epoch {epoch_idx+1}/{num_epochs}, Loss: {loss_value.item()}\")\n"
      ],
      "metadata": {
        "id": "5x-Gw8C4G3gG",
        "colab": {
          "base_uri": "https://localhost:8080/"
        },
        "outputId": "bed7824f-b1c3-40c7-df13-feb60429ff73"
      },
      "execution_count": 4,
      "outputs": [
        {
          "output_type": "stream",
          "name": "stdout",
          "text": [
            "Epoch 1/5, Loss: 0.23385471105575562\n",
            "Epoch 2/5, Loss: 0.23353120684623718\n",
            "Epoch 3/5, Loss: 0.23320800065994263\n",
            "Epoch 4/5, Loss: 0.2328878790140152\n",
            "Epoch 5/5, Loss: 0.23256784677505493\n"
          ]
        }
      ]
    },
    {
      "cell_type": "code",
      "source": [
        "#9.How do you save and load a TensorFlow model\n",
        "\n",
        "import numpy as np\n",
        "import tensorflow as tf\n",
        "from tensorflow.keras.layers import Dense\n",
        "from tensorflow.keras.models import Sequential\n",
        "\n",
        "# Create a simple TensorFlow model\n",
        "neural_net = Sequential([\n",
        "    Dense(64, activation='relu', input_shape=(10,)),\n",
        "    Dense(1, activation='sigmoid')\n",
        "])\n",
        "\n",
        "# Compile the model\n",
        "neural_net.compile(optimizer='adam', loss='binary_crossentropy', metrics=['accuracy'])\n",
        "\n",
        "# Generate random training data\n",
        "features = np.random.rand(100, 10)\n",
        "labels = np.random.randint(2, size=100)\n",
        "\n",
        "# Train the model\n",
        "training_log = neural_net.fit(features, labels, epochs=5, batch_size=10, verbose=1)\n",
        "\n",
        "# Save the trained model\n",
        "neural_net.save('trained_model.h5')\n",
        "print(\"TensorFlow model saved as 'trained_model.h5'\")\n",
        "\n",
        "# Load the saved model\n",
        "restored_model = tf.keras.models.load_model('trained_model.h5')\n",
        "print(\"TensorFlow model loaded successfully\")\n"
      ],
      "metadata": {
        "id": "4Ot5TLFiG3YZ",
        "colab": {
          "base_uri": "https://localhost:8080/"
        },
        "outputId": "8ea94b85-48b9-41f2-8e97-f9dddbde68eb"
      },
      "execution_count": 5,
      "outputs": [
        {
          "output_type": "stream",
          "name": "stderr",
          "text": [
            "/usr/local/lib/python3.11/dist-packages/keras/src/layers/core/dense.py:87: UserWarning: Do not pass an `input_shape`/`input_dim` argument to a layer. When using Sequential models, prefer using an `Input(shape)` object as the first layer in the model instead.\n",
            "  super().__init__(activity_regularizer=activity_regularizer, **kwargs)\n"
          ]
        },
        {
          "output_type": "stream",
          "name": "stdout",
          "text": [
            "Epoch 1/5\n",
            "\u001b[1m10/10\u001b[0m \u001b[32m━━━━━━━━━━━━━━━━━━━━\u001b[0m\u001b[37m\u001b[0m \u001b[1m1s\u001b[0m 5ms/step - accuracy: 0.4948 - loss: 0.7231\n",
            "Epoch 2/5\n",
            "\u001b[1m10/10\u001b[0m \u001b[32m━━━━━━━━━━━━━━━━━━━━\u001b[0m\u001b[37m\u001b[0m \u001b[1m0s\u001b[0m 6ms/step - accuracy: 0.5504 - loss: 0.6723 \n",
            "Epoch 3/5\n",
            "\u001b[1m10/10\u001b[0m \u001b[32m━━━━━━━━━━━━━━━━━━━━\u001b[0m\u001b[37m\u001b[0m \u001b[1m0s\u001b[0m 5ms/step - accuracy: 0.4814 - loss: 0.7021 \n",
            "Epoch 4/5\n",
            "\u001b[1m10/10\u001b[0m \u001b[32m━━━━━━━━━━━━━━━━━━━━\u001b[0m\u001b[37m\u001b[0m \u001b[1m0s\u001b[0m 5ms/step - accuracy: 0.6232 - loss: 0.6795 \n",
            "Epoch 5/5\n",
            "\u001b[1m10/10\u001b[0m \u001b[32m━━━━━━━━━━━━━━━━━━━━\u001b[0m\u001b[37m\u001b[0m \u001b[1m0s\u001b[0m 5ms/step - accuracy: 0.5181 - loss: 0.6826 \n"
          ]
        },
        {
          "output_type": "stream",
          "name": "stderr",
          "text": [
            "WARNING:absl:You are saving your model as an HDF5 file via `model.save()` or `keras.saving.save_model(model)`. This file format is considered legacy. We recommend using instead the native Keras format, e.g. `model.save('my_model.keras')` or `keras.saving.save_model(model, 'my_model.keras')`. \n"
          ]
        },
        {
          "output_type": "stream",
          "name": "stdout",
          "text": [
            "TensorFlow model saved as 'trained_model.h5'\n"
          ]
        },
        {
          "output_type": "stream",
          "name": "stderr",
          "text": [
            "WARNING:absl:Compiled the loaded model, but the compiled metrics have yet to be built. `model.compile_metrics` will be empty until you train or evaluate the model.\n"
          ]
        },
        {
          "output_type": "stream",
          "name": "stdout",
          "text": [
            "TensorFlow model loaded successfully\n"
          ]
        }
      ]
    },
    {
      "cell_type": "code",
      "source": [],
      "metadata": {
        "id": "z5vygw02YwU1"
      },
      "execution_count": null,
      "outputs": []
    }
  ]
}